{
 "cells": [
  {
   "cell_type": "markdown",
   "id": "aac97da4",
   "metadata": {},
   "source": [
    "## Introduction to Front End"
   ]
  },
  {
   "cell_type": "markdown",
   "id": "1e2551ed",
   "metadata": {},
   "source": [
    "### Core internet technologies\n",
    "* IP (Internet Protocol) defines IPV4 and IPV6 IP address\n",
    "  + IPV4 contains 4 octets separated by peroids or dots\n",
    "  + IPV6 contains 4 hexdecimal digits separated by :\n",
    "  + the data are sent a in series of messages called IP packets\n",
    "    + IP packets contains IP header and IP data (payload)\n",
    "    + IP header contains both destination's and source's IP addresses\n",
    "  + IP packets may have the following three issues:\n",
    "    + arrive out of order\n",
    "    + become damaged or corrupted\n",
    "    + dropped or lost during transit\n",
    "  + to solve the problems of IP packet transition, payload contains other protocols\n",
    "    + these protocols are contained inside the IP packet. The two major protocols are\n",
    "      + Transmission contro protocol (TCP)\n",
    "        + can resolve all the three issues of data packet tranmission at the cost of a small delay\n",
    "        + used for sending data that must be correct and in correct order, such as text and images\n",
    "      + User datagram protocol (UDP)\n",
    "        + solve the damaged or corrupted packet issue, but packets can still arrive out of order or not arrive at all\n",
    "        + used for sending data that can tolerate data packet loss, such as voice or live video streaming\n",
    "* HTTP protocol is used to communicate with web server  \n",
    "  + HyperText Transfer Protocol\n",
    "  + used to transfer web resources such as HTML documents(web pages), images and other files\n",
    "    + HTML documents are sent from webserver to client\n",
    "    + images and files are transferred to and from the web server using HTTP\n",
    "  + is a request-response base protocol\n",
    "    + clients (eg. a browser) send HTTP requests to server\n",
    "    + server sends HTTP response to clients\n",
    "  + HTTP requests consist of method path version, headers and body\n",
    "    ``` text\n",
    "    GET / HTTP/1.1\n",
    "    Host: developer.mozilla.org\n",
    "    Accept-Language: en\n",
    "    ```\n",
    "      + method describes the type of action that the client is to perform\n",
    "        + GET: retrieve information from server\n",
    "        + PUT: update records on the server\n",
    "        + POST: send data to server\n",
    "        + DELETE: remove the resource from server\n",
    "      + path:\n",
    "        + representation of where the resource is store on the webserver\n",
    "      + version of HTTP protocol\n",
    "        + 1.1 and 2.0 are the most commonly used versions    \n",
    "      + headers\n",
    "        + extra information about the request and the client making the request\n",
    "      + body of conetent the client is sending\n",
    "    + HTTP Response\n",
    "      + contains similar method, version and headers\n",
    "      + message body consisting of HTML document, images and files\n",
    "      + Status code (in the header) as an integer from 100-599\n",
    "        + informational: 100-199. these are provisional, interim response. eg. 100 CONTINUE\n",
    "        + successful: 200-299.request successfully processed. eg. 200 OK \n",
    "        + redirection: 300-399. resoruces have been moved. eg. 301 moved permanently\n",
    "        + client error: 400-499.\n",
    "          + 400: client sents bad data to server\n",
    "          + 401: user must log into an account before the request can be processed\n",
    "          + 403: request is valid, but webserver refused to process it. Usually indicates that the client does not have the sufficient permission to execute an action in a web application\n",
    "          + 404: request resource was not found on the webserver \n",
    "        + server error: 500-599.\n",
    "      + Staus message, text message to interpret status code\n",
    "* HTTPS\n",
    "  + secure version of HTTP\n",
    "  + secure communications between two computers by encryption\n",
    "  + encrypt the data before sending and only receivers that can decrpyt the code can see the data\n",
    "        "
   ]
  },
  {
   "cell_type": "code",
   "execution_count": null,
   "id": "5e668786",
   "metadata": {},
   "outputs": [],
   "source": []
  }
 ],
 "metadata": {
  "kernelspec": {
   "display_name": "Python 3 (ipykernel)",
   "language": "python",
   "name": "python3"
  },
  "language_info": {
   "codemirror_mode": {
    "name": "ipython",
    "version": 3
   },
   "file_extension": ".py",
   "mimetype": "text/x-python",
   "name": "python",
   "nbconvert_exporter": "python",
   "pygments_lexer": "ipython3",
   "version": "3.10.4"
  }
 },
 "nbformat": 4,
 "nbformat_minor": 5
}
