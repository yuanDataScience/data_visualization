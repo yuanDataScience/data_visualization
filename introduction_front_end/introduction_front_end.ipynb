{
 "cells": [
  {
   "cell_type": "markdown",
   "id": "aac97da4",
   "metadata": {},
   "source": [
    "## Introduction to Front End"
   ]
  },
  {
   "cell_type": "markdown",
   "id": "1e2551ed",
   "metadata": {},
   "source": [
    "### Core internet technologies\n",
    "* IP (Internet Protocol) defines IPV4 and IPV6 IP address\n",
    "  + IPV4 contains 4 octets separated by peroids or dots\n",
    "  + IPV6 contains 8 hexadecimal digits separated by :\n",
    "  + the data are sent a in series of messages called IP packets\n",
    "    + IP packets contains IP header and IP data (payload)\n",
    "    + IP header contains both destination's and source's IP addresses\n",
    "  + IP packets may have the following three issues:\n",
    "    + arrive out of order\n",
    "    + become damaged or corrupted\n",
    "    + dropped or lost during transit\n",
    "  + to solve the problems of IP packet transition, payload contains other protocols\n",
    "    + these protocols are contained inside the IP packet. The two major protocols are\n",
    "      + Transmission contro protocol (TCP)\n",
    "        + can resolve all the three issues of data packet tranmission at the cost of a small delay\n",
    "        + used for sending data that must be correct and in correct order, such as text and images\n",
    "      + User datagram protocol (UDP)\n",
    "        + solve the damaged or corrupted packet issue, but packets can still arrive out of order or not arrive at all\n",
    "        + used for sending data that can tolerate data packet loss, such as voice or live video streaming\n",
    "* HTTP protocol is used to communicate with web server  \n",
    "  + HyperText Transfer Protocol\n",
    "  + used to transfer web resources such as HTML documents(web pages), images and other files\n",
    "    + HTML documents are sent from webserver to client\n",
    "    + images and files are transferred to and from the web server using HTTP\n",
    "  + is a request-response base protocol\n",
    "    + clients (eg. a browser) send HTTP requests to server\n",
    "    + server sends HTTP response to clients\n",
    "  + HTTP requests consist of method path version, headers and body\n",
    "    ``` text\n",
    "    GET / HTTP/1.1\n",
    "    Host: developer.mozilla.org\n",
    "    Accept-Language: en\n",
    "    ```\n",
    "      + method describes the type of action that the client is to perform\n",
    "        + GET: retrieve information from server\n",
    "        + PUT: update records on the server\n",
    "        + POST: send data to server\n",
    "        + DELETE: remove the resource from server\n",
    "      + path:\n",
    "        + representation of where the resource is store on the webserver\n",
    "      + version of HTTP protocol\n",
    "        + 1.1 and 2.0 are the most commonly used versions    \n",
    "      + headers\n",
    "        + extra information about the request and the client making the request\n",
    "      + body of conetent the client is sending\n",
    "    + HTTP Response\n",
    "      + contains similar method, version and headers\n",
    "      + message body consisting of HTML document, images and files\n",
    "      + Status code (in the header) as an integer from 100-599\n",
    "        + informational: 100-199. these are provisional, interim response. eg. 100 CONTINUE\n",
    "        + successful: 200-299.request successfully processed. eg. 200 OK \n",
    "        + redirection: 300-399. resoruces have been moved. eg. 301 moved permanently\n",
    "        + client error: 400-499.\n",
    "          + 400: client sents bad data to server\n",
    "          + 401: user must log into an account before the request can be processed\n",
    "          + 403: request is valid, but webserver refused to process it. Usually indicates that the client does not have the sufficient permission to execute an action in a web application\n",
    "          + 404: request resource was not found on the webserver \n",
    "        + server error: 500-599.\n",
    "      + Staus message, text message to interpret status code\n",
    "* HTTPS\n",
    "  + secure version of HTTP\n",
    "  + secure communications between two computers by encryption\n",
    "  + encrypt the data before sending and only receivers that can decrpyt the code can see the data\n",
    "        "
   ]
  },
  {
   "cell_type": "markdown",
   "id": "8006b5f1",
   "metadata": {},
   "source": [
    "#### HTML, CSS and JS\n",
    "* HTML references CSS for styling and JS for intractions with users\n",
    "* a single webpage consists of HTML, CSS and Javascript\n",
    "* a web site is a collection of web pages linked by hyperlinks under one domain name\n",
    "* web site and web application are often used interchangeably. a web site is more informative and a web application is more interactive. For example, an interactive web app that can show different contents for different users vs a web page showing the same content for all visitors\n",
    "  + the difference between a web site and web application is the level of interactivity and dynamic content\n",
    "    + dynamically updated content\n",
    "    + high level of interactivity\n",
    "    + personalized content"
   ]
  },
  {
   "cell_type": "markdown",
   "id": "63ab5e4d",
   "metadata": {},
   "source": [
    "#### Developer tools\n",
    "* access HTML, CSS and JS code\n",
    "* trace http requests to the web server, investigate performance issues and review web page security\n",
    "* using F12 on windows to open developer tool (or inspect from menu)\n",
    "* console tab outputs javascript logs and errors from your web application\n",
    "  + mostly useful when you debug using console.log in the code and show the output\n",
    "* source tab shows all content resolved for the current page, including the source code and files of the HTML, CSS, JS, images and videos\n",
    "* network tab inspects the timeline and details of HTTP requests and responses for the web page\n",
    "* performance tab shows what the web browser is doing over time. You can pinpoint the functions that are taking the most time to diagnose a slow application\n",
    "* memory tab displays the parts of your code that are consuming the most resources\n",
    "* element tab inspects the documents, HTML elements and their properties\n",
    "  + if you double click an element, you can edit it in the browser locally (this won't change the content of web server and will reset it to the original web page when you reload the page)"
   ]
  },
  {
   "cell_type": "markdown",
   "id": "4273eef3",
   "metadata": {},
   "source": [
    "#### Frameworks and libraries\n",
    "* libraries are reusable code that can be used in your application to provide specific functionality\n",
    "  + examaple: a library for validating email addresses\n",
    "* a framework provides the structure for developers to build with. \n",
    "  + Developers develop their own code that the framework interacts with\n",
    "  + example: Express, Django, ASP.NET, Spring for web app development\n",
    "    + handle functions that all web apps need to use, such as receiving HTTP requests and sending HTTP responses. Developers develope their own functionality about the requests and responses\n",
    "* many frameworks use libraries. These libraries can be used by your applications\n",
    "* it is easier to replace a library than a framework"
   ]
  },
  {
   "cell_type": "markdown",
   "id": "29699141",
   "metadata": {},
   "source": [
    "#### API\n",
    "* Application Programming Interface is a service, application, or interface offering advanced functionality with simple syntax\n",
    "* an API is a set of functions and procedures for creating applications that access ithe features or data of an operating system, application or other service\n",
    "* APIs are often the bridge between different components or systems\n",
    "  + Browser API or web API\n",
    "    + built into browser itself\n",
    "      + DOM API turns HTML documents to tree of nodes represented as javascript objects\n",
    "      + Geolocation API returns coordinations of where the browser is located\n",
    "      + Fetch API\n",
    "      + Canvas API\n",
    "      + History API\n",
    "      + Web Storage API (client side storage)\n",
    "    + REST API\n",
    "      + provides data for popular web and mobile apps, also called web service\n",
    "        + REST is a set of principles used to build highly efficient APIs\n",
    "        + one main purpose is to send and receive data to and from centralized database\n",
    "    + Sensor-based API\n",
    "      + Internet of Things (IOT) are based on. IOTs are physical sensors that are interconnected with each other\n",
    "      + sensors can communicate through API and track and respond to physical data"
   ]
  },
  {
   "cell_type": "markdown",
   "id": "a73741e5",
   "metadata": {},
   "source": [
    "#### IDE\n",
    "* refactoring: change the structure of code without changing the functinality\n",
    "  + IDE can help to modify all the code corresponding to the changes you make to function names"
   ]
  },
  {
   "cell_type": "code",
   "execution_count": null,
   "id": "61fb6583",
   "metadata": {},
   "outputs": [],
   "source": []
  }
 ],
 "metadata": {
  "kernelspec": {
   "display_name": "Python 3 (ipykernel)",
   "language": "python",
   "name": "python3"
  },
  "language_info": {
   "codemirror_mode": {
    "name": "ipython",
    "version": 3
   },
   "file_extension": ".py",
   "mimetype": "text/x-python",
   "name": "python",
   "nbconvert_exporter": "python",
   "pygments_lexer": "ipython3",
   "version": "3.10.4"
  }
 },
 "nbformat": 4,
 "nbformat_minor": 5
}
