{
 "cells": [
  {
   "cell_type": "markdown",
   "id": "65064ac6",
   "metadata": {},
   "source": [
    "## Fonts\n",
    "### For common website and vanilla js\n",
    "#### select fonts from web online\n",
    "* [goole fonts](https://fonts.google.com/)\n",
    "* in the search fonts bar, input the font karla in it, and select variable only. This will give you only the variable fonts\n",
    "* select the corresponding font option, \n",
    "* on the top right of the webpage, you can download family\n",
    "  + for karla, we can download the variable font including all font weights\n",
    "  + unzip the downloaded file, and save in the root folder of website in a fonts folder\n",
    "  + you don't need to add any links to index.html file, just directly use the font in your css file to apply to each specific element\n",
    "    + first, declare the font-family and link to the corresponding font file in fonts folder\n",
    "    + if you have multiple font-families, each font-family will use one @font-face block before you use it\n",
    "    + now, directly use the font-family and font-size etc.\n",
    "  ```css\n",
    "    @font-face {\n",
    "        src: url(fonts/Karla-VariableFont_wght.ttf);\n",
    "        font-family: nos;\n",
    "     }\n",
    "        \n",
    "        \n",
    "    .paragraph {\n",
    "            font-size: 50px;\n",
    "            line-height: 62px;\n",
    "            font-family: nos, sans-serif;\n",
    "            font-weight: 500;\n",
    "            font-style: italic;\n",
    "         }\n",
    "  ```\n",
    "   \n",
    "+ you can also select the specific font styles, including\n",
    "  + bold, extrabold, regular etc. with different font weights\n",
    "  + this option allows you to select the specific font weights\n",
    "    + you can select extrabold, bold, regular, medium with the corresponding font weights\n",
    "    + you select all the weights you need, and the link will be generated for you to copy and past to your index.html as a ref link\n",
    "    + remember to past in the top of head element \n",
    "    ```html\n",
    "       <link rel=\"preconnect\" href=\"https://fonts.googleapis.com\">\n",
    "        <link rel=\"preconnect\" href=\"https://fonts.gstatic.com\" crossorigin>\n",
    "        <link href=\"https://fonts.googleapis.com/css2?family=Karla:wght@400;500;700;800&display=swap\" rel=\"stylesheet\">\n",
    "    ```\n",
    "  + copy the CSS rules and paste to the css stylesheet\n",
    "    + this can be defined to specific element\n",
    "  ```css\n",
    "    .paragraph {\n",
    "        font-size: 50px;\n",
    "        line-height: 62px;\n",
    "        font-family: 'Karla', sans-serif;\n",
    "        font-weight: 500;\n",
    "        font-style: italic;\n",
    "     }\n",
    "   ```\n",
    "  + another way is to import the font link and use the font-family all in css using @import\n",
    "  \n",
    "* other sources of font:\n",
    "  [dafont.com](http://www.dafont.com)"
   ]
  },
  {
   "cell_type": "markdown",
   "id": "7a726016",
   "metadata": {},
   "source": [
    "#### Specifically for react.js\n",
    "* install font package to the project from terminal\n",
    "  + npm install @fontsource/karla;\n",
    "  + npm install @fontsource/markazi-text;\n",
    "* import the package in app.js or site component js file\n",
    "  + import \"@fontsource/karla\";\n",
    "* Finally, you can reference the font name in a CSS stylesheet, CSS Module, or CSS-in-JS.\n",
    "  + here in app.css file\n",
    "  ```css\n",
    "    .App {\n",
    "      text-align: center;\n",
    "      display: grid;\n",
    "      height: 150vh;\n",
    "      grid-template-rows: auto 1fr auto;\n",
    "      font-family: 'Karla', sans-serif;\n",
    "    }\n",
    "```\n"
   ]
  },
  {
   "cell_type": "code",
   "execution_count": null,
   "id": "a113d1ca",
   "metadata": {},
   "outputs": [],
   "source": []
  }
 ],
 "metadata": {
  "kernelspec": {
   "display_name": "Python 3 (ipykernel)",
   "language": "python",
   "name": "python3"
  },
  "language_info": {
   "codemirror_mode": {
    "name": "ipython",
    "version": 3
   },
   "file_extension": ".py",
   "mimetype": "text/x-python",
   "name": "python",
   "nbconvert_exporter": "python",
   "pygments_lexer": "ipython3",
   "version": "3.10.4"
  }
 },
 "nbformat": 4,
 "nbformat_minor": 5
}
