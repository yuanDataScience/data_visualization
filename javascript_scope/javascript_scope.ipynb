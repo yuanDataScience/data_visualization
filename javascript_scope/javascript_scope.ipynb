{
 "cells": [
  {
   "cell_type": "markdown",
   "id": "54ae3487",
   "metadata": {},
   "source": [
    "### Javascript Scope\n",
    "This notebook is based on a [linkedin course](https://www.linkedin.com/learning/javascript-scope/)"
   ]
  },
  {
   "cell_type": "markdown",
   "id": "4724bc57",
   "metadata": {},
   "source": [
    "#### hotkeys in vs code\n",
    "* doc + tab to generate html\n",
    "* tag such as script + tab will autocomplete\n",
    "* shift+ctr+p to show the dropdown list and select \"live server\" -> \"open live server\"\n",
    "  + after that you can switch on/off the live server from the symbol \"port 5500\" at bottom right of vs code bar"
   ]
  },
  {
   "cell_type": "markdown",
   "id": "e533d498",
   "metadata": {},
   "source": [
    "#### Javascript scope\n",
    "* defines the accessibility or visibility of the variables\n",
    "* let and const are block scope variables\n",
    "* three scopes\n",
    "  + local\n",
    "    + variables only availabe local to the function\n",
    "  + block\n",
    "    + declared by let and const, accessible by the innermost block they are surrounded by\n",
    "  + global\n",
    "    + when variables, objects or functions are available to all\n",
    "      + variable declared by var in the main body. Variables declared by var in a function has function scope\n",
    "      + functions declared at top level\n",
    "      + block variables declared in the global\n",
    "      + variable initialized in functions, but without declaration using let or const\n",
    "    + deleted when app is closed, in most cases, when broswer is closed\n",
    "    + security issue. other people may pull the data from this variable"
   ]
  },
  {
   "cell_type": "markdown",
   "id": "1e0538b3",
   "metadata": {},
   "source": [
    "#### closures\n",
    "* closures are inner functions that have the access to external variables\n",
    "* closures can access \"private\" variables that can not be accessed from the external environment"
   ]
  },
  {
   "cell_type": "code",
   "execution_count": 14,
   "id": "8237baa2",
   "metadata": {},
   "outputs": [
    {
     "data": {
      "application/javascript": [
       "\n",
       "const test_func = () => {\n",
       "    var variable = \"is global?\"\n",
       "}\n",
       "var variable = \"is global?\"\n",
       "alert(variable)\n"
      ],
      "text/plain": [
       "<IPython.core.display.Javascript object>"
      ]
     },
     "metadata": {},
     "output_type": "display_data"
    }
   ],
   "source": [
    "%%js\n",
    "\n",
    "const test_func = () => {\n",
    "    var variable = \"is global?\"\n",
    "}\n",
    "var variable = \"is global?\"\n",
    "alert(variable)"
   ]
  },
  {
   "cell_type": "code",
   "execution_count": 11,
   "id": "c9439e24",
   "metadata": {},
   "outputs": [
    {
     "data": {
      "application/javascript": [
       "var warrior = 'Ninja';  //global variable\n",
       "\n",
       "//both screamWarrior and warrior2 are block variables\n",
       "// screamWarrior is accessible to the entire file\n",
       "// warrior2 is accessbie only to the block where it is defined\n",
       "\n",
       "/* this function returns a javascipt object, with a key shootWarrior points to */\n",
       "/*  an inner function, which is an arrow function that executes console.log when called */\n",
       "const screamWarrior = () => {\n",
       "    let warrior2 = 'Samurai';\n",
       "    return {\n",
       "        shootWarrior: () => {\n",
       "            console.log(warrior, warrior2);\n",
       "            \n",
       "        }\n",
       "    }\n",
       "}\n",
       "\n",
       "// this is a block variable available to the entire file\n",
       "const newWarrior = screamWarrior();  \n",
       "\n",
       "newWarrior.shootWarrior();  \n",
       "\n",
       "//console.log(warrior, warrior2);  /* this line will give errors since warrior2 can not be accessed */\n"
      ],
      "text/plain": [
       "<IPython.core.display.Javascript object>"
      ]
     },
     "metadata": {},
     "output_type": "display_data"
    }
   ],
   "source": [
    "%%js\n",
    "var warrior = 'Ninja';  //global variable\n",
    "\n",
    "//both screamWarrior and warrior2 are block variables\n",
    "// screamWarrior is accessible to the entire file\n",
    "// warrior2 is accessbie only to the block where it is defined\n",
    "\n",
    "/* this function returns a javascipt object, with a key shootWarrior points to */\n",
    "/*  an inner function, which is an arrow function that executes console.log when called */\n",
    "const screamWarrior = () => {\n",
    "    let warrior2 = 'Samurai';\n",
    "    return {\n",
    "        shootWarrior: () => {\n",
    "            console.log(warrior, warrior2);\n",
    "            \n",
    "        }\n",
    "    }\n",
    "}\n",
    "\n",
    "// this is a block variable available to the entire file\n",
    "const newWarrior = screamWarrior();  \n",
    "\n",
    "newWarrior.shootWarrior();  \n",
    "\n",
    "//console.log(warrior, warrior2);  /* this line will give errors since warrior2 can not be accessed */\n"
   ]
  },
  {
   "cell_type": "markdown",
   "id": "d88da66b",
   "metadata": {},
   "source": [
    "#### hoisting\n",
    "* javascript's behavior of moving all declarations to the top of its scope\n",
    "* when you declare a variable at the bottom of the code, it will be moved to the top of its scope when compiled\n",
    "* when compiler sees a declaration without an initialization, it will move the declaration to the top of code\n",
    "  + if you declare and initialize the variable at the bottom, it will not be moved to the top of code\n",
    "    + in the following code, warrior3 will show \"undefined\""
   ]
  },
  {
   "cell_type": "code",
   "execution_count": null,
   "id": "f2e896f4",
   "metadata": {},
   "outputs": [],
   "source": [
    "%%js\n",
    "warrior = 'Ninja'; // warrior is defined here\n",
    "warrior3 = 'Viking';\n",
    "\n",
    "const screamWarrior = () => {\n",
    "    let warrior2 = 'Samurai';\n",
    "    // wrapped in a function now is a closure\n",
    "    return {\n",
    "        shootWarrior: () => {\n",
    "            return console.log(warrior, warrior2);\n",
    "            \n",
    "        }\n",
    "    }\n",
    "}\n",
    "\n",
    "const newWarrior = screamWarrior();\n",
    "\n",
    "newWarrior.shootWarrior();\n",
    "\n",
    "console.log(warrior, warrior3);\n",
    "\n",
    "var warrior; // warrior is declared here...\n",
    "\n",
    "var warrior3 = \"something\"; // will show undefined \n"
   ]
  },
  {
   "cell_type": "markdown",
   "id": "005b94ee",
   "metadata": {},
   "source": [
    "#### global variables"
   ]
  },
  {
   "cell_type": "code",
   "execution_count": 1,
   "id": "3c7a9d28",
   "metadata": {},
   "outputs": [
    {
     "data": {
      "application/javascript": [
       "  /* use strict to prevent non declared variables to be global */\n",
       "\n",
       "const warrior = {\n",
       "    name: 'Jujin Take',\n",
       "    type: 'Ninja',\n",
       "    weapon: 'Shuriken',\n",
       "    agility: 79\n",
       "} // this is globally scoped\n",
       "\n",
       "// globally scoped \n",
       "const screamWarrior = () => {\n",
       "    let warrior2 = 'Samurai';\n",
       "    \n",
       "    warrior3 = 'Viking';  //global scoped, unless using 'use strict'\n",
       "    return {\n",
       "        shootWarrior: () => {\n",
       "            return console.log(warrior, warrior2);\n",
       "            \n",
       "        }\n",
       "    }\n",
       "}\n",
       "\n",
       "const newWarrior = screamWarrior();\n",
       "\n",
       "newWarrior.shootWarrior();\n",
       "\n",
       "console.log(warrior, warrior3);\n"
      ],
      "text/plain": [
       "<IPython.core.display.Javascript object>"
      ]
     },
     "metadata": {},
     "output_type": "display_data"
    }
   ],
   "source": [
    "%%js\n",
    "  /* use strict to prevent non declared variables to be global */\n",
    "\n",
    "const warrior = {\n",
    "    name: 'Jujin Take',\n",
    "    type: 'Ninja',\n",
    "    weapon: 'Shuriken',\n",
    "    agility: 79\n",
    "} // this is globally scoped\n",
    "\n",
    "// globally scoped \n",
    "const screamWarrior = () => {\n",
    "    let warrior2 = 'Samurai';\n",
    "    \n",
    "    warrior3 = 'Viking';  //global scoped, unless using 'use strict'\n",
    "    return {\n",
    "        shootWarrior: () => {\n",
    "            return console.log(warrior, warrior2);\n",
    "            \n",
    "        }\n",
    "    }\n",
    "}\n",
    "\n",
    "const newWarrior = screamWarrior();\n",
    "\n",
    "newWarrior.shootWarrior();\n",
    "\n",
    "console.log(warrior, warrior3);\n"
   ]
  },
  {
   "cell_type": "markdown",
   "id": "a71d2caf",
   "metadata": {},
   "source": [
    "#### exercise\n",
    "* array of wrriors: globally scaped"
   ]
  },
  {
   "cell_type": "code",
   "execution_count": 19,
   "id": "83675131",
   "metadata": {},
   "outputs": [
    {
     "data": {
      "application/javascript": [
       "\n",
       "let wrriors = [\"Ninja\", \"Samurai\", \"Viking\"]\n",
       "\n",
       "const travers = ()=>{\n",
       "for (let w of wrriors){\n",
       "    alert(w)\n",
       "}\n",
       "}\n",
       "\n",
       "travers()\n"
      ],
      "text/plain": [
       "<IPython.core.display.Javascript object>"
      ]
     },
     "metadata": {},
     "output_type": "display_data"
    }
   ],
   "source": [
    "%%js\n",
    "\n",
    "let wrriors = [\"Ninja\", \"Samurai\", \"Viking\"]\n",
    "\n",
    "const travers = ()=>{\n",
    "for (let w of wrriors){\n",
    "    alert(w)\n",
    "}\n",
    "}\n",
    "\n",
    "travers()"
   ]
  },
  {
   "cell_type": "markdown",
   "id": "1aa72c5b",
   "metadata": {},
   "source": [
    "#### local variables\n",
    "* variables declared in functions\n",
    "* life cycle: when the variable is created in the function till the function is completed\n",
    "* many functions can have the same variable names"
   ]
  },
  {
   "cell_type": "code",
   "execution_count": 2,
   "id": "b2e5f19b",
   "metadata": {},
   "outputs": [
    {
     "data": {
      "application/javascript": [
       "const screamWarrior = () => {\n",
       "    var warrior1 = 'Ninja';\n",
       "    let warrior2 = 'Samurai';\n",
       "\n",
       "    return `Our warriors are ${warrior1} and ${warrior2}`;\n",
       "}\n",
       "\n",
       "const screamWarrior2 = () => {\n",
       "    var warrior1 = 'Viking';\n",
       "    let warrior2 = 'Soldier';\n",
       "\n",
       "    return `Our warriors are ${warrior1} and ${warrior2}`;\n",
       "}\n",
       " \n",
       "console.log(screamWarrior2(), screamWarrior());\n",
       "\n",
       "// warrior1 & warrior2 aren't available globally\n",
       "// console.log(warrior1, warrior2);\n"
      ],
      "text/plain": [
       "<IPython.core.display.Javascript object>"
      ]
     },
     "metadata": {},
     "output_type": "display_data"
    }
   ],
   "source": [
    "%%js\n",
    "const screamWarrior = () => {\n",
    "    var warrior1 = 'Ninja';\n",
    "    let warrior2 = 'Samurai';\n",
    "\n",
    "    return `Our warriors are ${warrior1} and ${warrior2}`;\n",
    "}\n",
    "\n",
    "// we can use the same local variable names as in screamWarrior()\n",
    "const screamWarrior2 = () => {\n",
    "    var warrior1 = 'Viking';\n",
    "    let warrior2 = 'Soldier';\n",
    "\n",
    "    return `Our warriors are ${warrior1} and ${warrior2}`;\n",
    "}\n",
    " \n",
    "console.log(screamWarrior2(), screamWarrior());\n",
    "\n",
    "// warrior1 & warrior2 aren't available globally\n",
    "// console.log(warrior1, warrior2);"
   ]
  },
  {
   "cell_type": "code",
   "execution_count": 4,
   "id": "e8a89312",
   "metadata": {},
   "outputs": [
    {
     "data": {
      "application/javascript": [
       "\n",
       "const gVar = 10;\n",
       "\n",
       "const getProd = () => {\n",
       "    let lVar = 5;\n",
       "    let prod = lVar * gVar;\n",
       "    alert(prod);\n",
       "}\n",
       "\n",
       "getProd()\n"
      ],
      "text/plain": [
       "<IPython.core.display.Javascript object>"
      ]
     },
     "metadata": {},
     "output_type": "display_data"
    }
   ],
   "source": [
    "%%js\n",
    "\n",
    "const gVar = 10;\n",
    "\n",
    "const getProd = () => {\n",
    "    let lVar = 5;\n",
    "    let prod = lVar * gVar;\n",
    "    alert(prod);\n",
    "}\n",
    "\n",
    "getProd()"
   ]
  },
  {
   "cell_type": "markdown",
   "id": "263fd30f",
   "metadata": {},
   "source": [
    "#### block variables\n",
    "* only available inside the blocks of a function\n",
    "* declaring a variable in a if statement in a function\n",
    "  + only accessible in the if statement\n",
    "  + other part of the function will not be able to access the variable\n",
    "* when you need to update or mutate the variable values, use let, otherwise use const  "
   ]
  },
  {
   "cell_type": "code",
   "execution_count": 5,
   "id": "6c56ee36",
   "metadata": {},
   "outputs": [
    {
     "data": {
      "application/javascript": [
       "// global block-scoped variable\n",
       "const warriors = [\n",
       "    {\n",
       "        name: 'Jujin Take',\n",
       "        type: 'Ninja',\n",
       "        weapon: 'Shuriken',\n",
       "        agility: 79\n",
       "    },\n",
       "    {\n",
       "        name: 'Viggo Rusen',\n",
       "        type: 'Viking',\n",
       "        weapon: 'Swing blade',\n",
       "        agility: 60\n",
       "    },\n",
       "    {\n",
       "        name: 'Ro Rake',\n",
       "        type: 'Samurai',\n",
       "        weapon: 'Boken',\n",
       "        agility: 82\n",
       "    }\n",
       "]\n",
       "\n",
       "\n",
       "const screamWarriors = () => {\n",
       "    // global variable warriors available\n",
       "    console.log(warriors);\n",
       "    \n",
       "    warriors.map((warrior) => {\n",
       "        if (warrior.agility === 60) {\n",
       "            // block-scoped agility\n",
       "            let agility = warrior.agility;\n",
       "            console.log(`${warrior.name}, who is a ${warrior.type} has an agility of ${agility}`);\n",
       "        }\n",
       "\n",
       "        // block-scoped agility isn't available here\n",
       "        // console.log(warrior.agility);\n",
       "    })\n",
       "    \n",
       "}\n",
       "\n",
       "screamWarriors();\n"
      ],
      "text/plain": [
       "<IPython.core.display.Javascript object>"
      ]
     },
     "metadata": {},
     "output_type": "display_data"
    }
   ],
   "source": [
    "%%js\n",
    "// global block-scoped variable\n",
    "const warriors = [\n",
    "    {\n",
    "        name: 'Jujin Take',\n",
    "        type: 'Ninja',\n",
    "        weapon: 'Shuriken',\n",
    "        agility: 79\n",
    "    },\n",
    "    {\n",
    "        name: 'Viggo Rusen',\n",
    "        type: 'Viking',\n",
    "        weapon: 'Swing blade',\n",
    "        agility: 60\n",
    "    },\n",
    "    {\n",
    "        name: 'Ro Rake',\n",
    "        type: 'Samurai',\n",
    "        weapon: 'Boken',\n",
    "        agility: 82\n",
    "    }\n",
    "]\n",
    "\n",
    "\n",
    "const screamWarriors = () => {\n",
    "    // global variable warriors available\n",
    "    console.log(warriors);\n",
    "    \n",
    "    warriors.map((warrior) => {\n",
    "        if (warrior.agility === 60) {\n",
    "            // block-scoped agility\n",
    "            let agility = warrior.agility;\n",
    "            console.log(`${warrior.name}, who is a ${warrior.type} has an agility of ${agility}`);\n",
    "        }\n",
    "\n",
    "        // block-scoped agility isn't available here\n",
    "        // console.log(warrior.agility);\n",
    "    })\n",
    "    \n",
    "}\n",
    "\n",
    "screamWarriors();\n"
   ]
  },
  {
   "cell_type": "code",
   "execution_count": null,
   "id": "d2f4d091",
   "metadata": {},
   "outputs": [],
   "source": []
  }
 ],
 "metadata": {
  "kernelspec": {
   "display_name": "Python 3 (ipykernel)",
   "language": "python",
   "name": "python3"
  },
  "language_info": {
   "codemirror_mode": {
    "name": "ipython",
    "version": 3
   },
   "file_extension": ".py",
   "mimetype": "text/x-python",
   "name": "python",
   "nbconvert_exporter": "python",
   "pygments_lexer": "ipython3",
   "version": "3.8.10"
  }
 },
 "nbformat": 4,
 "nbformat_minor": 5
}
