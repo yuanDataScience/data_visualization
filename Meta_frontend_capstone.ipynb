{
 "cells": [
  {
   "cell_type": "markdown",
   "id": "b29703d4",
   "metadata": {},
   "source": [
    "## Front end capstone\n",
    "### Planning UX and UI\n",
    "* stages make up the UX UI process\n",
    "  + planning\n",
    "    + gather user objectives and goals\n",
    "    + determine and map the project's overall purpose \n",
    "  + design\n",
    "    + turn the facts and information from planning stage into reality\n",
    "    + this stage produces design structures and sketches for approval and testing\n",
    "  + development\n",
    "    + coding and programming tasks are completed, as well as testing\n",
    "  + launch\n",
    "    + product delivery\n",
    "* UX is an iterative process\n",
    "  + post launch feature testing and improvements will last "
   ]
  },
  {
   "cell_type": "markdown",
   "id": "d4733d21",
   "metadata": {},
   "source": [
    "### Semantic structure of HTML\n",
    "* you should focus on using the many semantic HTML 5 tags rather than relying on the div element\n",
    "* "
   ]
  }
 ],
 "metadata": {
  "kernelspec": {
   "display_name": "Python 3 (ipykernel)",
   "language": "python",
   "name": "python3"
  },
  "language_info": {
   "codemirror_mode": {
    "name": "ipython",
    "version": 3
   },
   "file_extension": ".py",
   "mimetype": "text/x-python",
   "name": "python",
   "nbconvert_exporter": "python",
   "pygments_lexer": "ipython3",
   "version": "3.10.4"
  }
 },
 "nbformat": 4,
 "nbformat_minor": 5
}
