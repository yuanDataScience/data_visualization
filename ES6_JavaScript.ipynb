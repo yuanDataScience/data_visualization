{
 "cells": [
  {
   "cell_type": "markdown",
   "id": "0e74d585",
   "metadata": {},
   "source": [
    "### ES6 JavaScript\n",
    "This notebook is based on a [linked in course](https://www.linkedin.com/learning/learning-ecmascript-6-plus-es6-plus/)"
   ]
  },
  {
   "cell_type": "markdown",
   "id": "dc7aa877",
   "metadata": {},
   "source": [
    "#### How to run Javascript in Jupyter notebook\n",
    "* we can run JS in jupyter notebook using teh magic command %%js\n",
    "* we can list all the magic commands using %lsmagic\n",
    "* it shows that %%js command, which can be used to run javascript in notebook"
   ]
  },
  {
   "cell_type": "code",
   "execution_count": 4,
   "id": "ddfcafc7",
   "metadata": {},
   "outputs": [
    {
     "data": {
      "application/json": {
       "cell": {
        "!": "OSMagics",
        "HTML": "Other",
        "SVG": "Other",
        "bash": "Other",
        "capture": "ExecutionMagics",
        "debug": "ExecutionMagics",
        "file": "Other",
        "html": "DisplayMagics",
        "javascript": "DisplayMagics",
        "js": "DisplayMagics",
        "latex": "DisplayMagics",
        "markdown": "DisplayMagics",
        "perl": "Other",
        "prun": "ExecutionMagics",
        "pypy": "Other",
        "python": "Other",
        "python2": "Other",
        "python3": "Other",
        "ruby": "Other",
        "script": "ScriptMagics",
        "sh": "Other",
        "svg": "DisplayMagics",
        "sx": "OSMagics",
        "system": "OSMagics",
        "time": "ExecutionMagics",
        "timeit": "ExecutionMagics",
        "writefile": "OSMagics"
       },
       "line": {
        "alias": "OSMagics",
        "alias_magic": "BasicMagics",
        "autoawait": "AsyncMagics",
        "autocall": "AutoMagics",
        "automagic": "AutoMagics",
        "autosave": "KernelMagics",
        "bookmark": "OSMagics",
        "cat": "Other",
        "cd": "OSMagics",
        "clear": "KernelMagics",
        "colors": "BasicMagics",
        "conda": "PackagingMagics",
        "config": "ConfigMagics",
        "connect_info": "KernelMagics",
        "cp": "Other",
        "debug": "ExecutionMagics",
        "dhist": "OSMagics",
        "dirs": "OSMagics",
        "doctest_mode": "BasicMagics",
        "ed": "Other",
        "edit": "KernelMagics",
        "env": "OSMagics",
        "gui": "BasicMagics",
        "hist": "Other",
        "history": "HistoryMagics",
        "killbgscripts": "ScriptMagics",
        "ldir": "Other",
        "less": "KernelMagics",
        "lf": "Other",
        "lk": "Other",
        "ll": "Other",
        "load": "CodeMagics",
        "load_ext": "ExtensionMagics",
        "loadpy": "CodeMagics",
        "logoff": "LoggingMagics",
        "logon": "LoggingMagics",
        "logstart": "LoggingMagics",
        "logstate": "LoggingMagics",
        "logstop": "LoggingMagics",
        "ls": "Other",
        "lsmagic": "BasicMagics",
        "lx": "Other",
        "macro": "ExecutionMagics",
        "magic": "BasicMagics",
        "man": "KernelMagics",
        "matplotlib": "PylabMagics",
        "mkdir": "Other",
        "more": "KernelMagics",
        "mv": "Other",
        "notebook": "BasicMagics",
        "page": "BasicMagics",
        "pastebin": "CodeMagics",
        "pdb": "ExecutionMagics",
        "pdef": "NamespaceMagics",
        "pdoc": "NamespaceMagics",
        "pfile": "NamespaceMagics",
        "pinfo": "NamespaceMagics",
        "pinfo2": "NamespaceMagics",
        "pip": "PackagingMagics",
        "popd": "OSMagics",
        "pprint": "BasicMagics",
        "precision": "BasicMagics",
        "prun": "ExecutionMagics",
        "psearch": "NamespaceMagics",
        "psource": "NamespaceMagics",
        "pushd": "OSMagics",
        "pwd": "OSMagics",
        "pycat": "OSMagics",
        "pylab": "PylabMagics",
        "qtconsole": "KernelMagics",
        "quickref": "BasicMagics",
        "recall": "HistoryMagics",
        "rehashx": "OSMagics",
        "reload_ext": "ExtensionMagics",
        "rep": "Other",
        "rerun": "HistoryMagics",
        "reset": "NamespaceMagics",
        "reset_selective": "NamespaceMagics",
        "rm": "Other",
        "rmdir": "Other",
        "run": "ExecutionMagics",
        "save": "CodeMagics",
        "sc": "OSMagics",
        "set_env": "OSMagics",
        "store": "StoreMagics",
        "sx": "OSMagics",
        "system": "OSMagics",
        "tb": "ExecutionMagics",
        "time": "ExecutionMagics",
        "timeit": "ExecutionMagics",
        "unalias": "OSMagics",
        "unload_ext": "ExtensionMagics",
        "who": "NamespaceMagics",
        "who_ls": "NamespaceMagics",
        "whos": "NamespaceMagics",
        "xdel": "NamespaceMagics",
        "xmode": "BasicMagics"
       }
      },
      "text/plain": [
       "Available line magics:\n",
       "%alias  %alias_magic  %autoawait  %autocall  %automagic  %autosave  %bookmark  %cat  %cd  %clear  %colors  %conda  %config  %connect_info  %cp  %debug  %dhist  %dirs  %doctest_mode  %ed  %edit  %env  %gui  %hist  %history  %killbgscripts  %ldir  %less  %lf  %lk  %ll  %load  %load_ext  %loadpy  %logoff  %logon  %logstart  %logstate  %logstop  %ls  %lsmagic  %lx  %macro  %magic  %man  %matplotlib  %mkdir  %more  %mv  %notebook  %page  %pastebin  %pdb  %pdef  %pdoc  %pfile  %pinfo  %pinfo2  %pip  %popd  %pprint  %precision  %prun  %psearch  %psource  %pushd  %pwd  %pycat  %pylab  %qtconsole  %quickref  %recall  %rehashx  %reload_ext  %rep  %rerun  %reset  %reset_selective  %rm  %rmdir  %run  %save  %sc  %set_env  %store  %sx  %system  %tb  %time  %timeit  %unalias  %unload_ext  %who  %who_ls  %whos  %xdel  %xmode\n",
       "\n",
       "Available cell magics:\n",
       "%%!  %%HTML  %%SVG  %%bash  %%capture  %%debug  %%file  %%html  %%javascript  %%js  %%latex  %%markdown  %%perl  %%prun  %%pypy  %%python  %%python2  %%python3  %%ruby  %%script  %%sh  %%svg  %%sx  %%system  %%time  %%timeit  %%writefile\n",
       "\n",
       "Automagic is ON, % prefix IS NOT needed for line magics."
      ]
     },
     "execution_count": 4,
     "metadata": {},
     "output_type": "execute_result"
    }
   ],
   "source": [
    "# list all magic commands\n",
    "%lsmagic"
   ]
  },
  {
   "cell_type": "code",
   "execution_count": 8,
   "id": "ca4cbe66",
   "metadata": {},
   "outputs": [
    {
     "data": {
      "application/javascript": [
       "let a = 1    /* comment */\n",
       "let b =2\n",
       "element.text(a + b)\n"
      ],
      "text/plain": [
       "<IPython.core.display.Javascript object>"
      ]
     },
     "metadata": {},
     "output_type": "display_data"
    }
   ],
   "source": [
    "%%js\n",
    "let a = 1    /* comment */\n",
    "let b =2\n",
    "element.text(a + b)"
   ]
  },
  {
   "cell_type": "markdown",
   "id": "32a1b505",
   "metadata": {},
   "source": [
    "### What is ECMAScript?\n",
    "* javascript created in 1995 in netscape, standardized by European Computer Manufacturers Association (ECMA)\n",
    "* ESMAScript 6 - 2015\n",
    "* since then ECMAScript+year, such as ECMAScript2010, 2021, etc.\n",
    "* https://github.com/tc39 contains all the proposals as part of ECMAScript process\n",
    "* check the [compatibility table](http://kangax.github.io/compat-table/es6) to see how browsers support ES6 features"
   ]
  },
  {
   "cell_type": "markdown",
   "id": "48f51c60",
   "metadata": {},
   "source": [
    "#### let and var\n",
    "* in the following code, if we use var, then all the boxes will have the index of 5\n",
    "* if we use let then the boxes will give the right index\n",
    "* this is because let has the block scope, and var has global scope\n",
    "* using let makes it easy to control the block scope behavior\n",
    "* once you create a variable using let, you can change its value by assignment, but can not use let to re-create"
   ]
  },
  {
   "cell_type": "code",
   "execution_count": 13,
   "id": "dd0b3235",
   "metadata": {},
   "outputs": [
    {
     "data": {
      "text/html": [
       "<!DOCTYPE html>\n",
       "<html>\n",
       "  <head>\n",
       "    <title>ECMAScript</title>\n",
       "    <style>\n",
       "      #box {\n",
       "        display: flex;\n",
       "        justify-content: space-around;\n",
       "      }\n",
       "      #box > div {\n",
       "        height: 5em;\n",
       "        width: 5em;\n",
       "        background-color: purple;\n",
       "      }\n",
       "    </style>\n",
       "  </head>\n",
       "  <body>\n",
       "    <h1>Let</h1>\n",
       "    <div id=\"box\"></div>\n",
       "    <script type=\"text/javascript\">\n",
       "      var div;\n",
       "      var box = document.getElementById(\"box\");\n",
       "\n",
       "      /* using var will only print the last i value for all boxes */\n",
       "      /* for (var i = 0; i < 5; i++) {  */\n",
       "      for (let i = 0; i < 5; i++) {                                \n",
       "        div = document.createElement(\"div\");\n",
       "        div.onclick = function () {\n",
       "          alert(\"This is box # \" + i);\n",
       "        };\n",
       "        box.appendChild(div);\n",
       "      }\n",
       "    </script>\n",
       "  </body>\n",
       "</html>\n"
      ],
      "text/plain": [
       "<IPython.core.display.HTML object>"
      ]
     },
     "metadata": {},
     "output_type": "display_data"
    }
   ],
   "source": [
    "%%html\n",
    "<!DOCTYPE html>\n",
    "<html>\n",
    "  <head>\n",
    "    <title>ECMAScript</title>\n",
    "    <style>\n",
    "      #box {\n",
    "        display: flex;\n",
    "        justify-content: space-around;\n",
    "      }\n",
    "      #box > div {\n",
    "        height: 5em;\n",
    "        width: 5em;\n",
    "        background-color: purple;\n",
    "      }\n",
    "    </style>\n",
    "  </head>\n",
    "  <body>\n",
    "    <h1>Let</h1>\n",
    "    <div id=\"box\"></div>\n",
    "    <script type=\"text/javascript\">\n",
    "      var div;\n",
    "      var box = document.getElementById(\"box\");\n",
    "\n",
    "      /* using var will only print the last i value for all boxes */\n",
    "      /* for (var i = 0; i < 5; i++) {  */\n",
    "      for (let i = 0; i < 5; i++) { \n",
    "        div = document.createElement(\"div\");\n",
    "        div.onclick = function () {\n",
    "          alert(\"This is box # \" + i);\n",
    "        };\n",
    "        box.appendChild(div);\n",
    "      }\n",
    "    </script>\n",
    "  </body>\n",
    "</html>\n"
   ]
  },
  {
   "cell_type": "markdown",
   "id": "d57added",
   "metadata": {},
   "source": [
    "#### a variable inside a block that is defined by assignment alone becomes a global, automatically"
   ]
  },
  {
   "cell_type": "code",
   "execution_count": 79,
   "id": "441ebb7d",
   "metadata": {},
   "outputs": [
    {
     "data": {
      "application/javascript": [
       "for (i of [1,2,3,4]) {\n",
       "    alert(i);\n",
       "}\n",
       "alert(i);\n"
      ],
      "text/plain": [
       "<IPython.core.display.Javascript object>"
      ]
     },
     "metadata": {},
     "output_type": "display_data"
    }
   ],
   "source": [
    "%%js\n",
    "for (i of [1,2,3,4]) {\n",
    "    alert(i);\n",
    "}\n",
    "alert(i);"
   ]
  },
  {
   "cell_type": "markdown",
   "id": "28bc22dc",
   "metadata": {},
   "source": [
    "#### In the following code\n",
    "* topic defined by let has the block scope\n",
    "* topic defined by var has the global scope\n",
    "* block scope variable will shunt the global scope variable in the block"
   ]
  },
  {
   "cell_type": "code",
   "execution_count": 15,
   "id": "3147114e",
   "metadata": {},
   "outputs": [
    {
     "data": {
      "text/html": [
       "<!DOCTYPE html>\n",
       "<html>\n",
       "  <head>\n",
       "    <title>ECMAScript</title>    \n",
       "  </head>\n",
       "  <body>\n",
       "    <h1>Let</h1>\n",
       "    <script type=\"text/javascript\">\n",
       "      var topic = \"javaScript\";\n",
       "      \n",
       "      if (topic) {\n",
       "            let topic = \"ECMAScript\";\n",
       "            alert(\"block\", topic);\n",
       "      }\n",
       "      \n",
       "      alert(\"global\", topic)\n",
       "    </script>\n",
       "  </body>\n",
       "</html>\n"
      ],
      "text/plain": [
       "<IPython.core.display.HTML object>"
      ]
     },
     "metadata": {},
     "output_type": "display_data"
    }
   ],
   "source": [
    "%%html\n",
    "<!DOCTYPE html>\n",
    "<html>\n",
    "  <head>\n",
    "    <title>ECMAScript</title>    \n",
    "  </head>\n",
    "  <body>\n",
    "    <h1>Let</h1>\n",
    "    <script type=\"text/javascript\">\n",
    "      var topic = \"javaScript\";\n",
    "      \n",
    "      if (topic) {\n",
    "            let topic = \"ECMAScript\";\n",
    "            alert(\"block\", topic);\n",
    "      }\n",
    "      \n",
    "      alert(\"global\", topic)\n",
    "    </script>\n",
    "  </body>\n",
    "</html>\n"
   ]
  },
  {
   "cell_type": "markdown",
   "id": "2c93d633",
   "metadata": {},
   "source": [
    "#### Define variables by const\n",
    "* constant variable can not be reset as in the following code, with following error message:\n",
    "\"Uncaught TypeError: invalid assignment to const 'pizza'\""
   ]
  },
  {
   "cell_type": "code",
   "execution_count": 17,
   "id": "9d7b4d0f",
   "metadata": {},
   "outputs": [
    {
     "data": {
      "text/html": [
       "<!DOCTYPE html>\n",
       "<html>\n",
       "  <head>\n",
       "    <title>ECMAScript</title>\n",
       "  </head>\n",
       "  <body>\n",
       "    <h1>Const</h1>\n",
       "    <script type=\"text/javascript\">\n",
       "      const pizza = true;\n",
       "      pizza = false;\n",
       "      alert(pizza);\n",
       "    </script>\n",
       "  </body>\n",
       "</html>\n"
      ],
      "text/plain": [
       "<IPython.core.display.HTML object>"
      ]
     },
     "metadata": {},
     "output_type": "display_data"
    }
   ],
   "source": [
    "%%html\n",
    "<!DOCTYPE html>\n",
    "<html>\n",
    "  <head>\n",
    "    <title>ECMAScript</title>\n",
    "  </head>\n",
    "  <body>\n",
    "    <h1>Const</h1>\n",
    "    <script type=\"text/javascript\">\n",
    "      const pizza = true;\n",
    "      pizza = false;\n",
    "      alert(pizza);\n",
    "    </script>\n",
    "  </body>\n",
    "</html>"
   ]
  },
  {
   "cell_type": "markdown",
   "id": "f3bddde7",
   "metadata": {},
   "source": [
    "#### Template strings\n",
    "* template strings or literals allow you to tap into the functionality of template languages\n",
    "  + format js code with variables"
   ]
  },
  {
   "cell_type": "code",
   "execution_count": 34,
   "id": "f7e22c90",
   "metadata": {},
   "outputs": [
    {
     "data": {
      "text/html": [
       "<!DOCTYPE html>\n",
       "<html>\n",
       "  <head>\n",
       "    <title>ECMAScript</title>\n",
       "  </head>\n",
       "  <body>\n",
       "    <h1>Const</h1>\n",
       "    <script type=\"text/javascript\">\n",
       "      let firstName = \"John\";        \n",
       "      alert(`hello ${firstName}`);\n",
       "    </script>\n",
       "  </body>\n",
       "</html>\n"
      ],
      "text/plain": [
       "<IPython.core.display.HTML object>"
      ]
     },
     "metadata": {},
     "output_type": "display_data"
    }
   ],
   "source": [
    "%%html\n",
    "<!DOCTYPE html>\n",
    "<html>\n",
    "  <head>\n",
    "    <title>ECMAScript</title>\n",
    "  </head>\n",
    "  <body>\n",
    "    <h1>Const</h1>\n",
    "    <script type=\"text/javascript\">\n",
    "      let firstName = \"John\";        \n",
    "      alert(`hello ${firstName}`);\n",
    "    </script>\n",
    "  </body>\n",
    "</html>"
   ]
  },
  {
   "cell_type": "markdown",
   "id": "005ba841",
   "metadata": {},
   "source": [
    "#### code for script_template.js for the following html\n",
    "```javascript\n",
    "function print(firstName) {\n",
    "  alert(`Hello ${firstName}`);\n",
    "}\n",
    "\n",
    "print(\"Jenny\");\n",
    "\n",
    "function createEmail(firstName, price) {\n",
    "  let shipping = 5.95;\n",
    "  alert(`Hi ${firstName}! Thanks!            /* template string recognize the return characters */\n",
    "      Total: $${price}\n",
    "      Shipping: $${shipping}\n",
    "      Grand Total: $${price + shipping}\n",
    "    `);\n",
    "}\n",
    "\n",
    "createEmail(\"Guy\", 100);\n",
    "```"
   ]
  },
  {
   "cell_type": "code",
   "execution_count": 41,
   "id": "e767235b",
   "metadata": {},
   "outputs": [
    {
     "data": {
      "text/html": [
       "<!DOCTYPE html>\n",
       "<html>\n",
       "  <head>\n",
       "    <title>ECMAScript</title>\n",
       "  </head>\n",
       "  <body>\n",
       "    <h5>Template Strings</h5>\n",
       "    <script\n",
       "      type=\"text/javascript\"\n",
       "      src=\"script_template.js\"\n",
       "    ></script>\n",
       "  </body>\n",
       "</html>\n"
      ],
      "text/plain": [
       "<IPython.core.display.HTML object>"
      ]
     },
     "metadata": {},
     "output_type": "display_data"
    }
   ],
   "source": [
    "%%html\n",
    "<!DOCTYPE html>\n",
    "<html>\n",
    "  <head>\n",
    "    <title>ECMAScript</title>\n",
    "     <meta charset=\"UTF-8\">\n",
    "  </head>\n",
    "  <body>\n",
    "    <h5>Template Strings</h5>\n",
    "    <script\n",
    "      type=\"text/javascript\"\n",
    "      src=\"script_template.js\"\n",
    "    ></script>\n",
    "  </body>\n",
    "</html>"
   ]
  },
  {
   "cell_type": "markdown",
   "id": "0d67c5a6",
   "metadata": {},
   "source": [
    "#### Search strings"
   ]
  },
  {
   "cell_type": "code",
   "execution_count": 44,
   "id": "33fafda0",
   "metadata": {},
   "outputs": [
    {
     "data": {
      "application/javascript": [
       "const planet = \"earth\"\n",
       "alert(planet.startsWith(\"ear\"))\n",
       "alert(planet.endsWith(\"th\"))\n",
       "alert(planet.includes(\"r\"))\n"
      ],
      "text/plain": [
       "<IPython.core.display.Javascript object>"
      ]
     },
     "metadata": {},
     "output_type": "display_data"
    }
   ],
   "source": [
    "%%js\n",
    "const planet = \"earth\"\n",
    "alert(planet.startsWith(\"ear\"))\n",
    "alert(planet.endsWith(\"th\"))\n",
    "alert(planet.includes(\"r\"))"
   ]
  },
  {
   "cell_type": "markdown",
   "id": "35ede7e7",
   "metadata": {},
   "source": [
    "#### search method returns the index of the first occurence in the string"
   ]
  },
  {
   "cell_type": "code",
   "execution_count": 45,
   "id": "fa40b94c",
   "metadata": {},
   "outputs": [
    {
     "data": {
      "application/javascript": [
       "const planet = \"earthearthartart\"\n",
       "alert(planet.search(\"art\"))\n"
      ],
      "text/plain": [
       "<IPython.core.display.Javascript object>"
      ]
     },
     "metadata": {},
     "output_type": "display_data"
    }
   ],
   "source": [
    "%%js\n",
    "const planet = \"earthearthartart\"\n",
    "alert(planet.search(\"art\"))"
   ]
  },
  {
   "cell_type": "markdown",
   "id": "01221572",
   "metadata": {},
   "source": [
    "#### Symbols are primitives data type for unique ids\n",
    "* not conflict with object string keys\n",
    "* create by factory function\n",
    "* in the following code, id field of courseInfo is \"js-course\", \n",
    "   + the object will have a Symbol field (value is 41284)"
   ]
  },
  {
   "cell_type": "code",
   "execution_count": 35,
   "id": "0f310937",
   "metadata": {},
   "outputs": [
    {
     "data": {
      "application/javascript": [
       "const id = Symbol();\n",
       "\n",
       "const courseInfo = {\n",
       "  title: \"JavaScript\",\n",
       "  topics: [\"strings\", \"arrays\", \"objects\"],\n",
       "  id: \"js-course\"\n",
       "};\n",
       "\n",
       "courseInfo[id] = 41284;\n",
       "alert(courseInfo[id]);       /* will show 41284  */\n",
       "alert(courseInfo['id'])      /* will show js-course  */ \n"
      ],
      "text/plain": [
       "<IPython.core.display.Javascript object>"
      ]
     },
     "metadata": {},
     "output_type": "display_data"
    }
   ],
   "source": [
    "%%js\n",
    "const id = Symbol();\n",
    "\n",
    "const courseInfo = {\n",
    "  title: \"JavaScript\",\n",
    "  topics: [\"strings\", \"arrays\", \"objects\"],\n",
    "  id: \"js-course\"\n",
    "};\n",
    "\n",
    "courseInfo[id] = 41284;\n",
    "alert(courseInfo[id]);       /* will show 41284  */\n",
    "alert(courseInfo['id'])      /* will show js-course  */ \n"
   ]
  },
  {
   "cell_type": "markdown",
   "id": "eaf04eac",
   "metadata": {},
   "source": [
    "#### Map holds key value pairs\n",
    "* difference between a Map and an javascript object:\n",
    "  + in Map, both primitives and objects can be either key or value\n",
    "  + Map iterate its elements in their insertion order"
   ]
  },
  {
   "cell_type": "code",
   "execution_count": 34,
   "id": "3022e14b",
   "metadata": {},
   "outputs": [
    {
     "data": {
      "application/javascript": [
       "let course = new Map();\n",
       "course.set(\"react\", { description: \"ui\"});\n",
       "course.set(\"jest\",  { description: \"testing\"});\n",
       "\n",
       "/* direct define Map object */\n",
       "/* keys are date object with today's date, 2, and \"items\", respectively */\n",
       "/* values are \"today\", js object with javascript as key, array as value, and an array of [1, 2] */\n",
       "\n",
       "let details = new Map([\n",
       "  [new Date(), \"today\"],\n",
       "  [2, { javascript: [\"js\", \"node\", \"react\"] }],\n",
       "  [\"items\", [1, 2]]\n",
       "]);\n",
       "\n",
       "alert(details.size)\n",
       "\n",
       "alert(\"traverse Map\")\n",
       "details.forEach(function (item) {\n",
       "   alert(item);\n",
       " });\n"
      ],
      "text/plain": [
       "<IPython.core.display.Javascript object>"
      ]
     },
     "metadata": {},
     "output_type": "display_data"
    }
   ],
   "source": [
    "%%js\n",
    "let course = new Map();\n",
    "course.set(\"react\", { description: \"ui\"});\n",
    "course.set(\"jest\",  { description: \"testing\"});\n",
    "\n",
    "/* direct define Map object */\n",
    "/* keys are date object with today's date, 2, and \"items\", respectively */\n",
    "/* values are \"today\", js object with javascript as key, array as value, and an array of [1, 2] */\n",
    "\n",
    "let details = new Map([\n",
    "  [new Date(), \"today\"],\n",
    "  [2, { javascript: [\"js\", \"node\", \"react\"] }],\n",
    "  [\"items\", [1, 2]]\n",
    "]);\n",
    "\n",
    "alert(details.size)\n",
    "\n",
    "alert(\"traverse Map\")\n",
    "details.forEach(function (item) {\n",
    "   alert(item);\n",
    " });\n"
   ]
  },
  {
   "cell_type": "markdown",
   "id": "b814a086",
   "metadata": {},
   "source": [
    "#### Set\n",
    "* store unique values\n",
    "* can add and delete\n",
    "* can check if an element is in the set by has() function\n",
    "* has size property"
   ]
  },
  {
   "cell_type": "code",
   "execution_count": 33,
   "id": "8d547507",
   "metadata": {},
   "outputs": [
    {
     "data": {
      "application/javascript": [
       "let books = new Set();\n",
       "books.add(\"book1\")\n",
       "books.add(\"book2\").add(\"book3\")\n",
       "alert(books.has(\"book1\"))\n",
       "alert(books.size)\n",
       "\n",
       "books.delete(\"book3\")\n",
       "alert(books.size)\n",
       "\n",
       "alert(\"traverse set\")\n",
       "books.forEach(function(item) {\n",
       "    alert(item)\n",
       "})\n"
      ],
      "text/plain": [
       "<IPython.core.display.Javascript object>"
      ]
     },
     "metadata": {},
     "output_type": "display_data"
    }
   ],
   "source": [
    "%%js\n",
    "let books = new Set();\n",
    "books.add(\"book1\")\n",
    "books.add(\"book2\").add(\"book3\")\n",
    "alert(books.has(\"book1\"))\n",
    "alert(books.size)\n",
    "\n",
    "books.delete(\"book3\")\n",
    "alert(books.size)\n",
    "\n",
    "alert(\"traverse set\")\n",
    "books.forEach(function(item) {\n",
    "    alert(item)\n",
    "})"
   ]
  },
  {
   "cell_type": "markdown",
   "id": "9365da7c",
   "metadata": {},
   "source": [
    "#### Spread operation (...)\n",
    "* convert an array to function arguments\n",
    "* convert an array to element literal"
   ]
  },
  {
   "cell_type": "code",
   "execution_count": 14,
   "id": "7e491bee",
   "metadata": {},
   "outputs": [
    {
     "data": {
      "application/javascript": [
       "let cats = [\"Biscuit\", \"Jungle\"];\n",
       "let dogs = [\"Stella\", \"Camper\"];\n",
       "\n",
       "let animals = [\n",
       "  \"Smoky\",\n",
       "  \"Miro\",\n",
       "  \"Swimmy\",\n",
       "  ...cats,\n",
       "  ...dogs\n",
       "];\n",
       "\n",
       "alert(animals);\n"
      ],
      "text/plain": [
       "<IPython.core.display.Javascript object>"
      ]
     },
     "metadata": {},
     "output_type": "display_data"
    }
   ],
   "source": [
    "%%js\n",
    "let cats = [\"Biscuit\", \"Jungle\"];\n",
    "let dogs = [\"Stella\", \"Camper\"];\n",
    "\n",
    "let animals = [\n",
    "  \"Smoky\",\n",
    "  \"Miro\",\n",
    "  \"Swimmy\",\n",
    "  ...cats,\n",
    "  ...dogs\n",
    "];\n",
    "\n",
    "alert(animals);"
   ]
  },
  {
   "cell_type": "code",
   "execution_count": 32,
   "id": "dfab6e03",
   "metadata": {},
   "outputs": [
    {
     "data": {
      "application/javascript": [
       "let cats = [\"Biscuit\", \"Jungle\"];\n",
       "let dogs = [\"Stella\", \"Camper\"];\n",
       "\n",
       "let animals = [\n",
       "  \"Smoky\",\n",
       "  \"Miro\",\n",
       "  \"Swimmy\",\n",
       "  cats,         \n",
       "  dogs ];\n",
       "\n",
       "alert(animals);\n"
      ],
      "text/plain": [
       "<IPython.core.display.Javascript object>"
      ]
     },
     "metadata": {},
     "output_type": "display_data"
    }
   ],
   "source": [
    "%%js\n",
    "let cats = [\"Biscuit\", \"Jungle\"];\n",
    "let dogs = [\"Stella\", \"Camper\"];\n",
    "\n",
    "let animals = [\n",
    "  \"Smoky\",\n",
    "  \"Miro\",\n",
    "  \"Swimmy\",\n",
    "  cats,         \n",
    "  dogs ];\n",
    "\n",
    "alert(animals);"
   ]
  },
  {
   "cell_type": "markdown",
   "id": "55371398",
   "metadata": {},
   "source": [
    "#### Destructuring assignment gives us an easy way to extract data from arrays and objects and assign them to variables\n",
    "* you can access elements of an array by index, also can use desctructuring"
   ]
  },
  {
   "cell_type": "code",
   "execution_count": 19,
   "id": "510256e4",
   "metadata": {},
   "outputs": [
    {
     "data": {
      "application/javascript": [
       "let [first, , , , fifth] = [\n",
       "  \"Spokane\",\n",
       "  \"Boston\",\n",
       "  \"Los Angeles\",\n",
       "  \"Seattle\",\n",
       "  \"Portland\"\n",
       "];\n",
       "\n",
       "alert(first + \" \" + fifth)\n"
      ],
      "text/plain": [
       "<IPython.core.display.Javascript object>"
      ]
     },
     "metadata": {},
     "output_type": "display_data"
    }
   ],
   "source": [
    "%%js\n",
    "let [first, , , , fifth] = [\n",
    "  \"Spokane\",\n",
    "  \"Boston\",\n",
    "  \"Los Angeles\",\n",
    "  \"Seattle\",\n",
    "  \"Portland\"\n",
    "];\n",
    "\n",
    "alert(first + \" \" + fifth)"
   ]
  },
  {
   "cell_type": "markdown",
   "id": "3baecc77",
   "metadata": {},
   "source": [
    "#### includes function for array"
   ]
  },
  {
   "cell_type": "code",
   "execution_count": 21,
   "id": "028bca14",
   "metadata": {},
   "outputs": [
    {
     "data": {
      "application/javascript": [
       "let cities = [\n",
       "  \"Spokane\",\n",
       "  \"Boston\",\n",
       "  \"Los Angeles\",\n",
       "  \"Seattle\",\n",
       "  \"Portland\"\n",
       "];\n",
       "alert(cities.includes(\"Boston\"))\n"
      ],
      "text/plain": [
       "<IPython.core.display.Javascript object>"
      ]
     },
     "metadata": {},
     "output_type": "display_data"
    }
   ],
   "source": [
    "%%js\n",
    "let cities = [\n",
    "  \"Spokane\",\n",
    "  \"Boston\",\n",
    "  \"Los Angeles\",\n",
    "  \"Seattle\",\n",
    "  \"Portland\"\n",
    "];\n",
    "alert(cities.includes(\"Boston\"))"
   ]
  },
  {
   "cell_type": "markdown",
   "id": "086c2a36",
   "metadata": {},
   "source": [
    "### Objects\n",
    "* object literal enhancement allows you to build object properties directly with the arguments having the same names\n",
    "* use spread to combine objects with all properties at the new object's property level\n",
    "* use destructure operations to destructuring objects"
   ]
  },
  {
   "cell_type": "code",
   "execution_count": 27,
   "id": "4330ef37",
   "metadata": {},
   "outputs": [
    {
     "data": {
      "application/javascript": [
       "/* object literal enhancement  */\n",
       "\n",
       "function skier(name, sound) {\n",
       "  return {\n",
       "    name,\n",
       "    sound,\n",
       "    powderYell: function () {\n",
       "      let yell = this.sound.toUpperCase();\n",
       "      alert(`${yell}! ${yell}!`);\n",
       "    }\n",
       "  };\n",
       "}\n",
       "\n",
       "skier(\"Sendy\", \"yeah\").powderYell();\n"
      ],
      "text/plain": [
       "<IPython.core.display.Javascript object>"
      ]
     },
     "metadata": {},
     "output_type": "display_data"
    }
   ],
   "source": [
    "%%js\n",
    "/* object literal enhancement  */\n",
    "\n",
    "function skier(name, sound) {\n",
    "  return {\n",
    "    name,\n",
    "    sound,\n",
    "    powderYell: function () {\n",
    "      let yell = this.sound.toUpperCase();\n",
    "      alert(`${yell}! ${yell}!`);\n",
    "    }\n",
    "  };\n",
    "}\n",
    "\n",
    "skier(\"Sendy\", \"yeah\").powderYell();\n"
   ]
  },
  {
   "cell_type": "code",
   "execution_count": 31,
   "id": "85e78f6b",
   "metadata": {},
   "outputs": [
    {
     "data": {
      "application/javascript": [
       "/*  using spread to combine objects to new object */\n",
       "\n",
       "const daytime = {\n",
       "  breakfast: \"oatmeal\",\n",
       "  lunch: \"peanut butter and jelly\"\n",
       "};\n",
       "\n",
       "const nighttime = \"mac and cheese\";\n",
       "\n",
       "const backpackingMeals = {\n",
       "  ...daytime,\n",
       "  nighttime\n",
       "};\n",
       "\n",
       "alert(JSON.stringify(backpackingMeals, null, 4));\n"
      ],
      "text/plain": [
       "<IPython.core.display.Javascript object>"
      ]
     },
     "metadata": {},
     "output_type": "display_data"
    }
   ],
   "source": [
    "%%js\n",
    "/*  using spread to combine objects to new object */\n",
    "\n",
    "const daytime = {\n",
    "  breakfast: \"oatmeal\",\n",
    "  lunch: \"peanut butter and jelly\"\n",
    "};\n",
    "\n",
    "const nighttime = \"mac and cheese\";\n",
    "\n",
    "const backpackingMeals = {\n",
    "  ...daytime,\n",
    "  nighttime\n",
    "};\n",
    "\n",
    "alert(JSON.stringify(backpackingMeals, null, 4));"
   ]
  },
  {
   "cell_type": "markdown",
   "id": "bec5477e",
   "metadata": {},
   "source": [
    "#### destructing objects to extract the values of corresponding keys\n",
    "* since we are extacting from objects, we use object destruction, not array destructure\n",
    "  + { key1, key2 }\n",
    "* the destructed object property values can be directly use as arguments of functions, shown in this code example\n",
    "* the function accepts an javascript object, and the extract the property values by destrcture\n",
    "* destructure can also be used to extract individual object property values\n",
    "* it is similar to array destrcutre, just use {} instead of [], but the values will be extracted the same way"
   ]
  },
  {
   "cell_type": "code",
   "execution_count": 36,
   "id": "a0807c38",
   "metadata": {},
   "outputs": [
    {
     "data": {
      "application/javascript": [
       "/* destructuring objects  */\n",
       "\n",
       "const vacation = {\n",
       "  destination: \"Chile\",\n",
       "  travelers: 2,\n",
       "  activity: \"skiing\",\n",
       "  cost: \"so much\"\n",
       "};\n",
       "\n",
       "function marketing({ destination, activity }) {\n",
       "  return `Come to ${destination} and do some ${activity}`;\n",
       "}\n",
       "\n",
       "alert(marketing(vacation));\n",
       "\n",
       "const { title, price } = {\n",
       "  title: \"Reuben\",\n",
       "  price: 7,\n",
       "  description: \"A classic\",\n",
       "  ingredients: [\n",
       "    \"bread\",\n",
       "    \"corned beef\",\n",
       "    \"dressing\",\n",
       "    \"sauerkraut\",\n",
       "    \"cheese\"\n",
       "  ]\n",
       "};\n",
       "\n",
       "alert(title);\n",
       "alert(price);\n",
       "\n"
      ],
      "text/plain": [
       "<IPython.core.display.Javascript object>"
      ]
     },
     "metadata": {},
     "output_type": "display_data"
    }
   ],
   "source": [
    "%%js\n",
    "/* destructuring objects  */\n",
    "\n",
    "const vacation = {\n",
    "  destination: \"Chile\",\n",
    "  travelers: 2,\n",
    "  activity: \"skiing\",\n",
    "  cost: \"so much\"\n",
    "};\n",
    "\n",
    "function marketing({ destination, activity }) {\n",
    "  return `Come to ${destination} and do some ${activity}`;\n",
    "}\n",
    "\n",
    "alert(marketing(vacation));\n",
    "\n",
    "const { title, price } = {\n",
    "  title: \"Reuben\",\n",
    "  price: 7,\n",
    "  description: \"A classic\",\n",
    "  ingredients: [\n",
    "    \"bread\",\n",
    "    \"corned beef\",\n",
    "    \"dressing\",\n",
    "    \"sauerkraut\",\n",
    "    \"cheese\"\n",
    "  ]\n",
    "};\n",
    "\n",
    "alert(title);\n",
    "alert(price);"
   ]
  },
  {
   "cell_type": "markdown",
   "id": "8d690a7a",
   "metadata": {},
   "source": [
    "#### Iterating with the for/of loop\n",
    "* for/of can be used for iterables, such as strings, Set, Map and arrays"
   ]
  },
  {
   "cell_type": "code",
   "execution_count": 42,
   "id": "b632786b",
   "metadata": {},
   "outputs": [
    {
     "data": {
      "application/javascript": [
       "\n",
       "/*  interating using for/of loop for iterables */\n",
       "\n",
       "\n",
       "/* for strings  */\n",
       "for (let letter of \"js\") {\n",
       "    alert(letter)\n",
       "}\n",
       "\n",
       "/* for arrays  */\n",
       "let topics = [\"Javascript\", \"Node\", \"CSS\"];\n",
       "for (let topic of topics) {\n",
       "    alert(topic);\n",
       "}\n",
       "\n",
       "/* for maps  */\n",
       "let m_topics = new Map();\n",
       "m_topics.set(\"HTML\", \"/topic/html\");\n",
       "m_topics.set(\"CSS\", \"/topic/css\");\n",
       "m_topics.set(\"JavaScript\", \"/topic/JavaScript\");\n",
       "\n",
       "/*  iterate over entries  */\n",
       "for (let topic of m_topics) {\n",
       "    alert(topic);\n",
       "}\n",
       "\n",
       "/* iterate over entries (same as iterate map itself, as shown in the code above)  */\n",
       "for (let topic of m_topics.entries()) {\n",
       "    alert(topic);\n",
       "}\n",
       "\n",
       "/* iterate over keys  */\n",
       "for (let key of m_topics.keys()) {\n",
       "    alert(key);\n",
       "}\n",
       "\n",
       "/* iterate over values  */\n",
       "for (let route of m_topics.values()) {\n",
       "    alert(route);\n",
       "}\n"
      ],
      "text/plain": [
       "<IPython.core.display.Javascript object>"
      ]
     },
     "metadata": {},
     "output_type": "display_data"
    }
   ],
   "source": [
    "%%js\n",
    "\n",
    "/*  interating using for/of loop for iterables */\n",
    "\n",
    "\n",
    "/* for strings  */\n",
    "for (let letter of \"js\") {\n",
    "    alert(letter)\n",
    "}\n",
    "\n",
    "/* for arrays  */\n",
    "let topics = [\"Javascript\", \"Node\", \"CSS\"];\n",
    "for (let topic of topics) {\n",
    "    alert(topic);\n",
    "}\n",
    "\n",
    "/* for maps  */\n",
    "let m_topics = new Map();\n",
    "m_topics.set(\"HTML\", \"/topic/html\");\n",
    "m_topics.set(\"CSS\", \"/topic/css\");\n",
    "m_topics.set(\"JavaScript\", \"/topic/JavaScript\");\n",
    "\n",
    "/*  iterate over entries  */\n",
    "for (let topic of m_topics) {\n",
    "    alert(topic);\n",
    "}\n",
    "\n",
    "/* iterate over entries (same as iterate map itself, as shown in the code above)  */\n",
    "for (let topic of m_topics.entries()) {\n",
    "    alert(topic);\n",
    "}\n",
    "\n",
    "/* iterate over keys  */\n",
    "for (let key of m_topics.keys()) {\n",
    "    alert(key);\n",
    "}\n",
    "\n",
    "/* iterate over values  */\n",
    "for (let route of m_topics.values()) {\n",
    "    alert(route);\n",
    "}"
   ]
  },
  {
   "cell_type": "markdown",
   "id": "006146ad",
   "metadata": {},
   "source": [
    "### Introduding classes\n",
    "#### Create class\n",
    "* create a class using constructor function, which set up the property that the class is going to use\n",
    "* functions in this class can access instance variables using \"this\""
   ]
  },
  {
   "cell_type": "code",
   "execution_count": 44,
   "id": "4a40aa0d",
   "metadata": {},
   "outputs": [
    {
     "data": {
      "application/javascript": [
       "class Vehicle {\n",
       "  constructor(description, wheels) {\n",
       "    this.description = description;\n",
       "    this.wheels = wheels;\n",
       "  }\n",
       "  describeYourself() {\n",
       "    alert(\n",
       "      `I am a ${this.description} \n",
       "        with ${this.wheels} wheels.`\n",
       "    );\n",
       "  }\n",
       "}\n",
       "\n",
       "let coolSkiVan = new Vehicle(\"cool ski van\", 4);\n",
       "\n",
       "alert(JSON.stringify(coolSkiVan, null, 4));\n",
       "coolSkiVan.describeYourself();\n"
      ],
      "text/plain": [
       "<IPython.core.display.Javascript object>"
      ]
     },
     "metadata": {},
     "output_type": "display_data"
    }
   ],
   "source": [
    "%%js\n",
    "class Vehicle {\n",
    "  constructor(description, wheels) {\n",
    "    this.description = description;\n",
    "    this.wheels = wheels;\n",
    "  }\n",
    "  describeYourself() {\n",
    "    alert(\n",
    "      `I am a ${this.description} \n",
    "        with ${this.wheels} wheels.`\n",
    "    );\n",
    "  }\n",
    "}\n",
    "\n",
    "let coolSkiVan = new Vehicle(\"cool ski van\", 4);\n",
    "\n",
    "alert(JSON.stringify(coolSkiVan, null, 4));\n",
    "coolSkiVan.describeYourself();"
   ]
  },
  {
   "cell_type": "markdown",
   "id": "8896fd69",
   "metadata": {},
   "source": [
    "#### inherit class\n",
    "* similar to Python and java, use extends keyword, and call super() in the constructor function"
   ]
  },
  {
   "cell_type": "code",
   "execution_count": 46,
   "id": "2e2fc6c4",
   "metadata": {},
   "outputs": [
    {
     "data": {
      "application/javascript": [
       "class Vehicle {\n",
       "  constructor(description, wheels) {\n",
       "    this.description = description;\n",
       "    this.wheels = wheels;\n",
       "  }\n",
       "  describeYourself() {\n",
       "    alert(\n",
       "      `I am a ${this.description} \n",
       "        with ${this.wheels} wheels.`\n",
       "    );\n",
       "  }\n",
       "}\n",
       "\n",
       "class SemiTruck extends Vehicle {\n",
       "  constructor() {\n",
       "    super(\"semi truck\", 18);\n",
       "  }\n",
       "}\n",
       "let groceryStoreSemi = new SemiTruck();\n",
       "groceryStoreSemi.describeYourself();\n"
      ],
      "text/plain": [
       "<IPython.core.display.Javascript object>"
      ]
     },
     "metadata": {},
     "output_type": "display_data"
    }
   ],
   "source": [
    "%%js\n",
    "class Vehicle {\n",
    "  constructor(description, wheels) {\n",
    "    this.description = description;\n",
    "    this.wheels = wheels;\n",
    "  }\n",
    "  describeYourself() {\n",
    "    alert(\n",
    "      `I am a ${this.description} \n",
    "        with ${this.wheels} wheels.`\n",
    "    );\n",
    "  }\n",
    "}\n",
    "\n",
    "class SemiTruck extends Vehicle {\n",
    "  constructor() {\n",
    "    super(\"semi truck\", 18);\n",
    "  }\n",
    "}\n",
    "let groceryStoreSemi = new SemiTruck();\n",
    "groceryStoreSemi.describeYourself();\n"
   ]
  },
  {
   "cell_type": "markdown",
   "id": "ea8caefb",
   "metadata": {},
   "source": [
    "#### getter and setter\n",
    "* use getter and setter in an javascript object\n",
    "  + we just add set and get before a normal function\n",
    "  + when we call object.function, the getter and setter will work\n",
    "  + here we directly call function by name and send its arguments using assignment\n",
    "* use getter and setter in a class\n",
    " + "
   ]
  },
  {
   "cell_type": "code",
   "execution_count": 55,
   "id": "74933ae7",
   "metadata": {},
   "outputs": [
    {
     "data": {
      "application/javascript": [
       "\n",
       "let attendance = {\n",
       "    _list: [],   /* notice in object, we don't use assignment, but : */\n",
       "    set addName(name) {           /* we just add set and get before a normal function */\n",
       "        this._list.push(name);    /* when we call object.function, the getter and setter will work */                                  \n",
       "    },\n",
       "    get list(){                   \n",
       "        return this._list.join(\", \")\n",
       "    }\n",
       "};\n",
       "\n",
       "/* then we directly call functions by names and send */\n",
       "/* its arguments using assignment */\n",
       "attendance.addName = \"Joanne Starr\";     \n",
       "attendance.addName = \"Bill Benkelman\";\n",
       "attendance.addName = \"Charlie Charlson\";\n",
       "\n",
       "\n",
       "alert(attendance.list)\n"
      ],
      "text/plain": [
       "<IPython.core.display.Javascript object>"
      ]
     },
     "metadata": {},
     "output_type": "display_data"
    }
   ],
   "source": [
    "%%js\n",
    "\n",
    "let attendance = {\n",
    "    _list: [],   /* notice in object, we don't use assignment, but : */\n",
    "    set addName(name) {           /* we just add set and get before a normal function */\n",
    "        this._list.push(name);    /* when we call object.function, the getter and setter will work */                                  \n",
    "    },\n",
    "    get list(){                   \n",
    "        return this._list.join(\", \")\n",
    "    }\n",
    "};\n",
    "\n",
    "/* then we directly call functions by names and send */\n",
    "/* its arguments using assignment */\n",
    "attendance.addName = \"Joanne Starr\";     \n",
    "attendance.addName = \"Bill Benkelman\";\n",
    "attendance.addName = \"Charlie Charlson\";\n",
    "\n",
    "\n",
    "alert(attendance.list)"
   ]
  },
  {
   "cell_type": "code",
   "execution_count": null,
   "id": "0e708e5d",
   "metadata": {},
   "outputs": [],
   "source": [
    "%%js\n",
    "\n",
    "class Hike {\n",
    "  constructor(distance, pace) {\n",
    "    this.distance = distance;\n",
    "    this.pace = pace;\n",
    "  }\n",
    "  get lengthInHours() {\n",
    "    return `${this.calcLength()} hours`;\n",
    "  }\n",
    "  calcLength() {\n",
    "    return this.distance / this.pace;\n",
    "  }\n",
    "}\n",
    "\n",
    "const mtTallac = new Hike(10, 2);\n",
    "\n",
    "alert(mtTallac.lengthInHours);\n"
   ]
  },
  {
   "cell_type": "markdown",
   "id": "0948f679",
   "metadata": {},
   "source": [
    "### ECMAScript Functions"
   ]
  },
  {
   "cell_type": "markdown",
   "id": "0c196b63",
   "metadata": {},
   "source": [
    "#### string.repeat function\n",
    "* returns a string with the string repeated certain amount of times defined by the input argument"
   ]
  },
  {
   "cell_type": "code",
   "execution_count": 57,
   "id": "1b41f3a8",
   "metadata": {},
   "outputs": [
    {
     "data": {
      "application/javascript": [
       "let yell = \"woo!\";\n",
       "\n",
       "let party = yell.repeat(20);\n",
       "alert(party);\n",
       "\n",
       "let cat = {\n",
       "    meow(times) {\n",
       "        alert(\"meow\".repeat(times));\n",
       "    },\n",
       "    purr(times) {\n",
       "        alert(\"purr\".repeat(times));\n",
       "    },\n",
       "    snore(times) {\n",
       "        alert(\"ZzZzZ\".repeat(times));\n",
       "    }\n",
       "};\n",
       "\n",
       "cat.meow(5);\n"
      ],
      "text/plain": [
       "<IPython.core.display.Javascript object>"
      ]
     },
     "metadata": {},
     "output_type": "display_data"
    }
   ],
   "source": [
    "%%js\n",
    "let yell = \"woo!\";\n",
    "\n",
    "let party = yell.repeat(20);\n",
    "alert(party);\n",
    "\n",
    "let cat = {\n",
    "    meow(times) {\n",
    "        alert(\"meow\".repeat(times));\n",
    "    },\n",
    "    purr(times) {\n",
    "        alert(\"purr\".repeat(times));\n",
    "    },\n",
    "    snore(times) {\n",
    "        alert(\"ZzZzZ\".repeat(times));\n",
    "    }\n",
    "};\n",
    "\n",
    "cat.meow(5);"
   ]
  },
  {
   "cell_type": "markdown",
   "id": "3289a16b",
   "metadata": {},
   "source": [
    "#### default function parameters\n",
    "* using default by assigning values in function definition"
   ]
  },
  {
   "cell_type": "code",
   "execution_count": 59,
   "id": "b0737e00",
   "metadata": {},
   "outputs": [
    {
     "data": {
      "application/javascript": [
       "function add(x = 5, y = 6) {\n",
       "    alert(x + y);\n",
       "}\n",
       "\n",
       "add(1, 2)\n",
       "\n",
       "add()\n"
      ],
      "text/plain": [
       "<IPython.core.display.Javascript object>"
      ]
     },
     "metadata": {},
     "output_type": "display_data"
    }
   ],
   "source": [
    "%%js\n",
    "function add(x = 5, y = 6) {\n",
    "    alert(x + y);\n",
    "}\n",
    "\n",
    "add(1, 2)\n",
    "\n",
    "add()"
   ]
  },
  {
   "cell_type": "code",
   "execution_count": 60,
   "id": "7b248830",
   "metadata": {},
   "outputs": [
    {
     "data": {
      "application/javascript": [
       "function haveFun(activityName = 'hiking', time = 3){\n",
       "    alert(`today I will go ${activityName} for ${time} hours`);\n",
       "}\n",
       "\n",
       "haveFun(\"biking\", 2.5);\n",
       "haveFun(\"biking\")\n"
      ],
      "text/plain": [
       "<IPython.core.display.Javascript object>"
      ]
     },
     "metadata": {},
     "output_type": "display_data"
    }
   ],
   "source": [
    "%%js\n",
    "function haveFun(activityName = 'hiking', time = 3){\n",
    "    alert(`today I will go ${activityName} for ${time} hours`);\n",
    "}\n",
    "\n",
    "haveFun(\"biking\", 2.5);\n",
    "haveFun(\"biking\")"
   ]
  },
  {
   "cell_type": "markdown",
   "id": "903db9ab",
   "metadata": {},
   "source": [
    "#### arrow functions\n",
    "* make code more readable and clean\n",
    "* deals with the scope of 'this' better "
   ]
  },
  {
   "cell_type": "code",
   "execution_count": 61,
   "id": "5569fec7",
   "metadata": {},
   "outputs": [
    {
     "data": {
      "application/javascript": [
       "\n",
       "let studentList = function (students) {\n",
       "    alert(students);\n",
       "}\n",
       "\n",
       "studentList([\"A\", \"B\", \"C\"]);\n"
      ],
      "text/plain": [
       "<IPython.core.display.Javascript object>"
      ]
     },
     "metadata": {},
     "output_type": "display_data"
    }
   ],
   "source": [
    "%%js\n",
    "\n",
    "let studentList = function (students) {\n",
    "    alert(students);\n",
    "}\n",
    "\n",
    "studentList([\"A\", \"B\", \"C\"]);"
   ]
  },
  {
   "cell_type": "code",
   "execution_count": 67,
   "id": "9d233bca",
   "metadata": {},
   "outputs": [
    {
     "data": {
      "application/javascript": [
       "/*  arrow function version  */\n",
       "\n",
       "let studentList = (students) =>\n",
       "  alert(students);\n",
       "    \n",
       "let list = [\"apple\", \"banana\", \"cherry\"];\n",
       "/* list.map(function(item){\n",
       "    alert(item);\n",
       "})\n",
       "*/\n",
       "\n",
       "list.map((item) => alert(item))\n"
      ],
      "text/plain": [
       "<IPython.core.display.Javascript object>"
      ]
     },
     "metadata": {},
     "output_type": "display_data"
    }
   ],
   "source": [
    "%%js\n",
    "/*  arrow function version  */\n",
    "\n",
    "let studentList = (students) =>\n",
    "  alert(students);\n",
    "    \n",
    "let list = [\"apple\", \"banana\", \"cherry\"];\n",
    "/* list.map(function(item){\n",
    "    alert(item);\n",
    "})\n",
    "*/\n",
    "\n",
    "list.map((item) => alert(item));"
   ]
  },
  {
   "cell_type": "code",
   "execution_count": 70,
   "id": "b902102e",
   "metadata": {},
   "outputs": [
    {
     "data": {
      "application/javascript": [
       "let person = {\n",
       "  first: \"Angie\",\n",
       "  hobbies: [\"bike\", \"hike\", \"ski\"],\n",
       "  printHobbies: function () {\n",
       "      let _this = this\n",
       "    this.hobbies.forEach(function(hobby) {\n",
       "      let string = `${_this.first} likes to ${hobby}`;\n",
       "      alert(string);\n",
       "    });\n",
       "  }\n",
       "};\n",
       "\n",
       "person.printHobbies();\n"
      ],
      "text/plain": [
       "<IPython.core.display.Javascript object>"
      ]
     },
     "metadata": {},
     "output_type": "display_data"
    }
   ],
   "source": [
    "%%js\n",
    "/* in traditional function, the annonymous inner function in forEach has this points to windows, not person */\n",
    "/* the workaround is to define a variable referring to the this reference of the object (here, person) */\n",
    "let person = {\n",
    "  first: \"Angie\",\n",
    "  hobbies: [\"bike\", \"hike\", \"ski\"],\n",
    "  printHobbies: function () {\n",
    "      let _this = this\n",
    "    this.hobbies.forEach(function(hobby) {\n",
    "      let string = `${_this.first} likes to ${hobby}`;\n",
    "      alert(string);\n",
    "    });\n",
    "  }\n",
    "};\n",
    "\n",
    "person.printHobbies();\n"
   ]
  },
  {
   "cell_type": "code",
   "execution_count": 71,
   "id": "9ceaf300",
   "metadata": {},
   "outputs": [
    {
     "data": {
      "application/javascript": [
       "/* a better way is to use arrow function */\n",
       "\n",
       "let person = {\n",
       "  first: \"Angie\",\n",
       "  hobbies: [\"bike\", \"hike\", \"ski\"],\n",
       "  printHobbies: function () {\n",
       "      let _this = this\n",
       "    this.hobbies.forEach((hobby) => {\n",
       "      let string = `${this.first} likes to ${hobby}`;\n",
       "      alert(string);\n",
       "    });\n",
       "  }\n",
       "};\n",
       "\n",
       "person.printHobbies();\n"
      ],
      "text/plain": [
       "<IPython.core.display.Javascript object>"
      ]
     },
     "metadata": {},
     "output_type": "display_data"
    }
   ],
   "source": [
    "%%js\n",
    "/* a better way is to use arrow function */\n",
    "/* arrow function keeps the this reference of annonymous function to its affiliated environment */\n",
    "\n",
    "let person = {\n",
    "  first: \"Angie\",\n",
    "  hobbies: [\"bike\", \"hike\", \"ski\"],\n",
    "  printHobbies: function () {\n",
    "      let _this = this\n",
    "    this.hobbies.forEach((hobby) => {\n",
    "      let string = `${this.first} likes to ${hobby}`;\n",
    "      alert(string);\n",
    "    });\n",
    "  }\n",
    "};\n",
    "\n",
    "person.printHobbies();\n"
   ]
  },
  {
   "cell_type": "markdown",
   "id": "aedb590e",
   "metadata": {},
   "source": [
    "#### generator\n",
    "* defined as function*"
   ]
  },
  {
   "cell_type": "code",
   "execution_count": 77,
   "id": "5f5ce37e",
   "metadata": {},
   "outputs": [
    {
     "data": {
      "application/javascript": [
       "function* director() {\n",
       "    yield \"Three\";\n",
       "    yield \"Two\";\n",
       "    yield \"One\";\n",
       "    yield \"Action\";\n",
       "}\n",
       "\n",
       "let countdown = director();\n",
       "for (let i =0; i < 5; i++ ) {\n",
       "   alert(JSON.stringify(countdown.next(), null, 4)); \n",
       "}\n",
       "\n",
       "/* to only get values  */\n",
       "let countdown_1 = director();\n",
       "for (let i =0; i < 5; i++ ) {\n",
       "   alert(JSON.stringify(countdown_1.next().value, null, 4)); \n",
       "}\n"
      ],
      "text/plain": [
       "<IPython.core.display.Javascript object>"
      ]
     },
     "metadata": {},
     "output_type": "display_data"
    }
   ],
   "source": [
    "%%js\n",
    "function* director() {\n",
    "    yield \"Three\";\n",
    "    yield \"Two\";\n",
    "    yield \"One\";\n",
    "    yield \"Action\";\n",
    "}\n",
    "\n",
    "let countdown = director();\n",
    "for (let i =0; i < 5; i++ ) {\n",
    "   alert(JSON.stringify(countdown.next(), null, 4)); \n",
    "}\n",
    "\n",
    "/* to only get values  */\n",
    "let countdown_1 = director();\n",
    "for (let i =0; i < 5; i++ ) {\n",
    "   alert(JSON.stringify(countdown_1.next().value, null, 4)); \n",
    "}"
   ]
  },
  {
   "cell_type": "markdown",
   "id": "c52da953",
   "metadata": {},
   "source": [
    "### Asynchronmous Javascript\n",
    "* A Promise accepts two callback function arguments, one for resolve, one for reject\n",
    "  + inside Promise, you define when to call reject and resolve callback functions\n",
    "    + here reject and resolve are functions that wrap the reuslts you want to send for these two situations\n",
    "    + if it is resolve, then the setTimeout function will\n",
    "      + delay seconds * 1000, then call the 1st argument of then using results wrapped in resolve, which is None\n",
    "        + the arrow funtion will alert(\" 1 sec\")\n",
    "    + if it is reject, then deay function defines what to wrap in reject\n",
    "      + the second function defined in then will be called using err wrapped in reject\n",
    "* load data    "
   ]
  },
  {
   "cell_type": "code",
   "execution_count": 87,
   "id": "431c407d",
   "metadata": {},
   "outputs": [
    {
     "data": {
      "application/javascript": [
       "const delay = (seconds) =>\n",
       "  new Promise((resolve, reject) => {\n",
       "    if (typeof seconds !== \"number\") {\n",
       "      reject(\n",
       "        new Error(\"seconds must be a number\")\n",
       "      );\n",
       "    }\n",
       "\n",
       "    setTimeout(resolve, seconds * 1000);\n",
       "  });\n",
       "\n",
       "alert(\"Zero seconds\");\n",
       "delay(\"one\").then(() => alert(\"1 sec\"), (err) => alert(err));\n"
      ],
      "text/plain": [
       "<IPython.core.display.Javascript object>"
      ]
     },
     "metadata": {},
     "output_type": "display_data"
    }
   ],
   "source": [
    "%%js\n",
    "const delay = (seconds) =>\n",
    "  new Promise((resolve, reject) => {\n",
    "    if (typeof seconds !== \"number\") {\n",
    "      reject(\n",
    "        new Error(\"seconds must be a number\")\n",
    "      );\n",
    "    }\n",
    "\n",
    "    setTimeout(resolve, seconds * 1000);\n",
    "  });\n",
    "\n",
    "alert(\"Zero seconds\");\n",
    "delay(\"one\").then(() => alert(\"1 sec\"), (err) => alert(err));\n"
   ]
  },
  {
   "cell_type": "code",
   "execution_count": null,
   "id": "5b5a6a79",
   "metadata": {},
   "outputs": [],
   "source": [
    "%%js\n",
    "const spacePeople = () => {\n",
    "  return new Promise((resolves, rejects) => {\n",
    "    const api =\n",
    "      \"http://api.open-notify.org/astros.json\";\n",
    "    const request = new XMLHttpRequest();\n",
    "    request.open(\"GET\", api);\n",
    "    request.onload = () => {\n",
    "      if (request.status === 200) {\n",
    "        resolves(JSON.parse(request.response));\n",
    "      } else {\n",
    "        rejects(Error(request.statusText));\n",
    "      }\n",
    "    };\n",
    "    request.onerror = (err) => rejects(err);\n",
    "    request.send();\n",
    "  });\n",
    "};\n",
    "\n",
    "spacePeople().then(\n",
    "  (spaceData) => console.log(spaceData),\n",
    "  (err) =>\n",
    "    console.error(new Error(\"Can't load people\"))\n",
    ");\n"
   ]
  },
  {
   "cell_type": "markdown",
   "id": "662931a9",
   "metadata": {},
   "source": [
    "#### fetch function takes the url and chain with then() function that parse the response body to json\n",
    "* fetch returns a Promise object that can be consumed by then()\n",
    "* res means response\n",
    "* you can chain then function to pipe the results of functions"
   ]
  },
  {
   "cell_type": "code",
   "execution_count": null,
   "id": "8185f6d6",
   "metadata": {},
   "outputs": [],
   "source": [
    "%%js\n",
    "let getSpacePeople = () =>\n",
    "  fetch(\n",
    "    \"http://api.open-notify.org/astros.json\"\n",
    "  ).then((res) => res.json());\n",
    "\n",
    "let spaceNames = () =>\n",
    "  getSpacePeople()\n",
    "    .then((json) => json.people)\n",
    "    .then((people) => people.map((p) => p.name))\n",
    "    .then((names) => names.join(\", \"));\n",
    "\n",
    "spaceNames().then(console.log);\n"
   ]
  },
  {
   "cell_type": "markdown",
   "id": "3e303c51",
   "metadata": {},
   "source": [
    "#### async function returns a Promise"
   ]
  },
  {
   "cell_type": "code",
   "execution_count": 83,
   "id": "285a834d",
   "metadata": {},
   "outputs": [
    {
     "data": {
      "application/javascript": [
       "const delay = (seconds) =>\n",
       "  new Promise((resolves) =>\n",
       "    setTimeout(resolves, seconds * 1000)\n",
       "  );\n",
       "\n",
       "const countToFive = async () => {\n",
       "  alert(\"zero seconds\");\n",
       "  await delay(1);\n",
       "  alert(\"one second\");\n",
       "  await delay(2);\n",
       "  alert(\"two seconds\");\n",
       "  await delay(3);\n",
       "  alert(\"three seconds\");\n",
       "};\n",
       "\n",
       "countToFive();\n"
      ],
      "text/plain": [
       "<IPython.core.display.Javascript object>"
      ]
     },
     "metadata": {},
     "output_type": "display_data"
    }
   ],
   "source": [
    "%%js\n",
    "const delay = (seconds) =>\n",
    "  new Promise((resolves) =>\n",
    "    setTimeout(resolves, seconds * 1000)\n",
    "  );\n",
    "\n",
    "const countToFive = async () => {\n",
    "  alert(\"zero seconds\");\n",
    "  await delay(1);\n",
    "  alert(\"one second\");\n",
    "  await delay(2);\n",
    "  alert(\"two seconds\");\n",
    "  await delay(3);\n",
    "  alert(\"three seconds\");\n",
    "};\n",
    "\n",
    "countToFive();\n"
   ]
  },
  {
   "cell_type": "code",
   "execution_count": 85,
   "id": "a100cc90",
   "metadata": {},
   "outputs": [
    {
     "data": {
      "application/javascript": [
       "const githubRequest = async (login) => {\n",
       "  let response = await fetch(\n",
       "    `https://api.github.com/users/${login}`\n",
       "  );\n",
       "  let json = response.json();\n",
       "  let summary = `${json.name}, ${json.company}`;\n",
       "  alert(summary);\n",
       "};\n",
       "\n",
       "githubRequest(\"eveporcello\");\n"
      ],
      "text/plain": [
       "<IPython.core.display.Javascript object>"
      ]
     },
     "metadata": {},
     "output_type": "display_data"
    }
   ],
   "source": [
    "%%js\n",
    "const githubRequest = async (login) => {\n",
    "  let response = await fetch(\n",
    "    `https://api.github.com/users/${login}`\n",
    "  );\n",
    "  let json = await response.json();\n",
    "  let summary = `${json.name}, ${json.company}`;\n",
    "  alert(summary);\n",
    "};\n",
    "\n",
    "githubRequest(\"eveporcello\");\n"
   ]
  },
  {
   "cell_type": "code",
   "execution_count": null,
   "id": "7b12b5d4",
   "metadata": {},
   "outputs": [],
   "source": []
  }
 ],
 "metadata": {
  "kernelspec": {
   "display_name": "Python 3 (ipykernel)",
   "language": "python",
   "name": "python3"
  },
  "language_info": {
   "codemirror_mode": {
    "name": "ipython",
    "version": 3
   },
   "file_extension": ".py",
   "mimetype": "text/x-python",
   "name": "python",
   "nbconvert_exporter": "python",
   "pygments_lexer": "ipython3",
   "version": "3.8.10"
  }
 },
 "nbformat": 4,
 "nbformat_minor": 5
}
